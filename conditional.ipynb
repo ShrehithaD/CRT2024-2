{
  "nbformat": 4,
  "nbformat_minor": 0,
  "metadata": {
    "colab": {
      "provenance": []
    },
    "kernelspec": {
      "name": "python3",
      "display_name": "Python 3"
    },
    "language_info": {
      "name": "python"
    }
  },
  "cells": [
    {
      "cell_type": "code",
      "execution_count": 3,
      "metadata": {
        "colab": {
          "base_uri": "https://localhost:8080/"
        },
        "id": "4Z3tuavJOUxw",
        "outputId": "d2de38ca-90c4-4acc-b8b8-cf7d3055b6d8"
      },
      "outputs": [
        {
          "output_type": "stream",
          "name": "stdout",
          "text": [
            "The unconditional probability of golf is 0.4\n",
            "The probability of medrisk 0.3\n",
            "The probability of single and medrisk 0.2\n",
            "The probability of sinlr given medrisk 0.6666666666666667\n"
          ]
        }
      ],
      "source": [
        "total_records=10\n",
        "no_golf=4\n",
        "print(\"The unconditional probability of golf is\",no_golf/total_records)\n",
        "no_medrisk=3\n",
        "probability_medrisk=3/10\n",
        "print(\"The probability of medrisk\",probability_medrisk)\n",
        "no_single_medrisk=2\n",
        "probability_single_and_medrisk=no_single_medrisk/total_records\n",
        "print(\"The probability of single and medrisk\",probability_single_and_medrisk)\n",
        "print(\"The probability of sinlr given medrisk\",probability_single_and_medrisk/probability_medrisk)\n",
        "\n",
        "\n"
      ]
    }
  ]
}